{
 "cells": [
  {
   "cell_type": "code",
   "execution_count": 1,
   "id": "d076e866",
   "metadata": {},
   "outputs": [],
   "source": [
    "import pandas as pd\n",
    "import numpy as np\n",
    "from tensorflow import keras\n",
    "import matplotlib.pyplot as plt\n",
    "import mediapipe as mp\n",
    "import cv2"
   ]
  },
  {
   "cell_type": "code",
   "execution_count": 2,
   "id": "2c807340",
   "metadata": {},
   "outputs": [
    {
     "data": {
      "text/plain": [
       "(720, 1280, 3)"
      ]
     },
     "execution_count": 2,
     "metadata": {},
     "output_type": "execute_result"
    }
   ],
   "source": [
    "imag = cv2.imread('test.jpg')\n",
    "image = np.array(imag,dtype = \"uint8\")\n",
    "image.shape"
   ]
  },
  {
   "cell_type": "code",
   "execution_count": 3,
   "id": "7cae4271",
   "metadata": {},
   "outputs": [
    {
     "data": {
      "text/plain": [
       "26"
      ]
     },
     "execution_count": 3,
     "metadata": {},
     "output_type": "execute_result"
    }
   ],
   "source": [
    "class_names = ['A', 'B', 'C', 'D', 'E', 'F', 'G', 'H', 'I', 'J', 'K', 'L', 'M', \n",
    "               'N', 'O', 'P', 'Q', 'R', 'S', 'T', 'U', 'V', 'W', 'X', 'Y','Z' ]\n",
    "len(class_names)"
   ]
  },
  {
   "cell_type": "code",
   "execution_count": 4,
   "id": "b216bf91",
   "metadata": {},
   "outputs": [],
   "source": [
    "def increase_brightness(img, value=30):\n",
    "    hsv = cv2.cvtColor(img, cv2.COLOR_BGR2HSV)\n",
    "    h, s, v = cv2.split(hsv)\n",
    "\n",
    "    lim = 255 - value\n",
    "    v[v > lim] = 255\n",
    "    v[v <= lim] += value\n",
    "\n",
    "    final_hsv = cv2.merge((h, s, v))\n",
    "    img = cv2.cvtColor(final_hsv, cv2.COLOR_HSV2BGR)\n",
    "    return img"
   ]
  },
  {
   "cell_type": "markdown",
   "id": "54f84da9",
   "metadata": {},
   "source": [
    "# Collect Training Data"
   ]
  },
  {
   "cell_type": "code",
   "execution_count": 5,
   "id": "84dc608e",
   "metadata": {},
   "outputs": [],
   "source": [
    "drawingModule = mp.solutions.drawing_utils\n",
    "handsModule = mp.solutions.hands"
   ]
  },
  {
   "cell_type": "code",
   "execution_count": 9,
   "id": "cf806d27",
   "metadata": {},
   "outputs": [
    {
     "name": "stdout",
     "output_type": "stream",
     "text": [
      "A => 2293\n",
      "B => 2371\n",
      "C => 2590\n",
      "D => 2722\n",
      "E => 2423\n",
      "F => 2775\n",
      "G => 2767\n",
      "H => 2727\n",
      "I => 2558\n",
      "J => 2568\n",
      "K => 2695\n",
      "L => 2831\n",
      "M => 1764\n",
      "N => 1659\n",
      "O => 2164\n",
      "P => 1908\n",
      "Q => 1894\n",
      "R => 2597\n",
      "S => 2316\n",
      "T => 2293\n",
      "U => 2324\n",
      "V => 2450\n",
      "W => 2371\n",
      "X => 2272\n",
      "Y => 2391\n",
      "Z => 2652\n",
      "Total Images =>  62375\n"
     ]
    }
   ],
   "source": [
    "f = open(\"Datasets//asl_alphabet_train.csv\",\"w\")\n",
    "f.close()\n",
    "train_file = open(\"Datasets//asl_alphabet_train.csv\",\"a\")\n",
    "\n",
    "total=0\n",
    "\n",
    "with handsModule.Hands(static_image_mode=True) as hands:\n",
    "    \n",
    "    for j in class_names:\n",
    "        class_count = 0\n",
    "        for i in range(1,3001):  \n",
    "            image = cv2.imread(f\"Datasets//asl_alphabet_train//asl_alphabet_train//{j}//{j}{i}.jpg\")\n",
    "            results = hands.process(cv2.cvtColor(image, cv2.COLOR_BGR2RGB))\n",
    "\n",
    "            imageHeight, imageWidth, _ = image.shape\n",
    "            a = []\n",
    "            b=False\n",
    "            if results.multi_hand_landmarks != None:\n",
    "                for handLandmarks in results.multi_hand_landmarks:\n",
    "\n",
    "                    for point in handsModule.HandLandmark:\n",
    "\n",
    "                        drawingModule.draw_landmarks(image, handLandmarks, handsModule.HAND_CONNECTIONS)\n",
    "                        normalizedLandmark = handLandmarks.landmark[point]\n",
    "                        pixelCoordinatesLandmark = drawingModule._normalized_to_pixel_coordinates(normalizedLandmark.x, normalizedLandmark.y, imageWidth, imageHeight)\n",
    "                        b=True\n",
    "                        a.append(normalizedLandmark.x)\n",
    "                        a.append(normalizedLandmark.y)\n",
    "                        a.append(normalizedLandmark.z)\n",
    "                \n",
    "            \n",
    "\n",
    "            \n",
    "            if len(a) == 63:\n",
    "                class_count+=1\n",
    "                a.append(class_names.index(j))\n",
    "                gb = [a]\n",
    "                np.savetxt(train_file,np.array(gb),delimiter=',')\n",
    "        total+=class_count       \n",
    "        print(j,\"=>\",class_count)\n",
    "\n",
    "print(\"Total Images => \",total)\n",
    "train_file.close()"
   ]
  },
  {
   "cell_type": "code",
   "execution_count": 58,
   "id": "f81b4937",
   "metadata": {},
   "outputs": [],
   "source": [
    "for i in train_data:\n",
    "    if len(i) != 63:\n",
    "        print(i)"
   ]
  },
  {
   "cell_type": "code",
   "execution_count": 59,
   "id": "aa4da106",
   "metadata": {},
   "outputs": [
    {
     "name": "stdout",
     "output_type": "stream",
     "text": [
      "(260, 63)\n",
      "(260,)\n"
     ]
    }
   ],
   "source": [
    "x_train = np.array(train_data, dtype = 'float')\n",
    "y_train = np.array(y_train, dtype = 'float')\n",
    "print(x_train.shape)\n",
    "print(y_train.shape)"
   ]
  },
  {
   "cell_type": "markdown",
   "id": "27f689ab",
   "metadata": {},
   "source": [
    "# Save Training Data"
   ]
  }
 ],
 "metadata": {
  "kernelspec": {
   "display_name": "Python 3 (ipykernel)",
   "language": "python",
   "name": "python3"
  },
  "language_info": {
   "codemirror_mode": {
    "name": "ipython",
    "version": 3
   },
   "file_extension": ".py",
   "mimetype": "text/x-python",
   "name": "python",
   "nbconvert_exporter": "python",
   "pygments_lexer": "ipython3",
   "version": "3.9.7"
  }
 },
 "nbformat": 4,
 "nbformat_minor": 5
}
